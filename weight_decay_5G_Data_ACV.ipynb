{
  "cells": [
    {
      "cell_type": "code",
      "execution_count": 1,
      "metadata": {
        "id": "yFInT4E4yoWR"
      },
      "outputs": [],
      "source": [
        "import numpy as np\n",
        "import pandas as pd\n",
        "import os"
      ]
    },
    {
      "cell_type": "code",
      "execution_count": 2,
      "metadata": {
        "id": "VBSo0uEzyxI-"
      },
      "outputs": [],
      "source": [
        "import matplotlib.pyplot as plt\n",
        "import seaborn as sns\n",
        "import cv2\n",
        "import pywt\n",
        "from PIL import Image  \n",
        "import PIL  \n",
        "from skimage.io import imsave, imread"
      ]
    },
    {
      "cell_type": "code",
      "execution_count": 3,
      "metadata": {
        "id": "RbnKRL7x_8du"
      },
      "outputs": [],
      "source": [
        "from dask import bag, diagnostics "
      ]
    },
    {
      "cell_type": "code",
      "execution_count": 4,
      "metadata": {
        "id": "xppL-beI7JEg"
      },
      "outputs": [],
      "source": [
        "import shutil\n",
        "from sklearn.metrics import confusion_matrix\n",
        "from sklearn.metrics import ConfusionMatrixDisplay, zero_one_loss, classification_report\n",
        "from tensorflow import keras\n",
        "import matplotlib.cm as cm\n",
        "from IPython.display import Image, display\n",
        "\n",
        "from sklearn.model_selection import train_test_split\n",
        "from tensorflow.keras.models import Sequential\n",
        "from tensorflow.keras.layers import Flatten\n",
        "from keras.layers import Input\n",
        "from keras.layers import Convolution2D , concatenate ,Conv2D,Dense\n",
        "from keras.layers import Activation,Dropout, GlobalAveragePooling2D,MaxPooling2D\n",
        "from keras.models import Model\n",
        "from keras.optimizers import Adam ,SGD,RMSprop"
      ]
    },
    {
      "cell_type": "code",
      "execution_count": 5,
      "metadata": {
        "id": "g4_zKnFfMK7o"
      },
      "outputs": [],
      "source": [
        "import math\n",
        "from keras.layers import MaxPool2D, concatenate, AveragePooling2D\n",
        "import tensorflow as tf\n",
        "from tensorflow.keras.applications.mobilenet_v2 import MobileNetV2\n",
        "from tensorflow.keras import layers\n",
        "from tensorflow.keras.callbacks import ModelCheckpoint\n",
        "import h5py\n",
        "from keras.layers import Concatenate\n",
        "import keras.backend as K\n",
        "import keras\n",
        "from keras.utils import np_utils\n",
        "from keras.callbacks import LearningRateScheduler"
      ]
    },
    {
      "cell_type": "code",
      "source": [],
      "metadata": {
        "id": "VfOFB1MWWrvw"
      },
      "execution_count": 5,
      "outputs": []
    },
    {
      "cell_type": "code",
      "execution_count": 6,
      "metadata": {
        "id": "ECehpddSygxU"
      },
      "outputs": [],
      "source": [
        "from glob import glob \n",
        "from tensorflow.keras.layers import Lambda\n",
        "from tensorflow.keras.applications.vgg16 import VGG16\n",
        "from tensorflow.keras.applications.vgg19 import VGG19\n",
        "from tensorflow.keras.preprocessing.image import ImageDataGenerator"
      ]
    },
    {
      "cell_type": "code",
      "execution_count": 7,
      "metadata": {
        "id": "bNEnTVDP1BYN"
      },
      "outputs": [],
      "source": [
        "data_path = '/content/drive/MyDrive/Sem 2/CV/5G_Data/'"
      ]
    },
    {
      "cell_type": "code",
      "execution_count": 8,
      "metadata": {
        "colab": {
          "base_uri": "https://localhost:8080/"
        },
        "id": "9VlBLF-TDrJ6",
        "outputId": "f735d331-fd56-4fbf-88bf-55d9526a27ad"
      },
      "outputs": [
        {
          "output_type": "stream",
          "name": "stdout",
          "text": [
            "['4QAM', '64QAM', '16QAM', '32QAM', '8QAM']\n"
          ]
        }
      ],
      "source": [
        "classes = list(os.listdir('/content/drive/MyDrive/Sem 2/CV/5G_Data/'))\n",
        "print(classes)"
      ]
    },
    {
      "cell_type": "code",
      "execution_count": 9,
      "metadata": {
        "id": "qm8mT2xrEEn6"
      },
      "outputs": [],
      "source": [
        "directories = {\n",
        "    '4QAM': '/content/drive/MyDrive/Sem 2/CV/5G_Data_rev/4QAM/',\n",
        "    '8QAM': '/content/drive/MyDrive/Sem 2/CV/5G_Data/8QAM/',\n",
        "    '16QAM': '/content/drive/MyDrive/Sem 2/CV/5G_Data_rev/16QAM/',\n",
        "    '32QAM': '/content/drive/MyDrive/Sem 2/CV/5G_Data/32QAM/',\n",
        "    '64QAM': '/content/drive/MyDrive/Sem 2/CV/5G_Data_rev/64QAM/',}"
      ]
    },
    {
      "cell_type": "code",
      "execution_count": 10,
      "metadata": {
        "id": "PFYKn_ec-Gtk"
      },
      "outputs": [],
      "source": [
        "import PIL.Image\n",
        "\n",
        "def cs_images(path,img_shape, classes):\n",
        "    imag = []\n",
        "    label = []\n",
        "    for i in classes:\n",
        "        l1 = os.listdir(path+'/'+i)\n",
        "        for j in l1:\n",
        "            img = PIL.Image.open(path+'/'+i+'/'+j)\n",
        "            img = img.resize(size = (img_shape[0], img_shape[0]))\n",
        "            img = img.convert('RGB')\n",
        "            #img = img.convert('L')\n",
        "            #img = img.reshape(50,50,1)\n",
        "            #img = img.flatten()\n",
        "            img = cv2.imread(path+'/'+i+'/'+j)\n",
        "            img = cv2.resize(img,(img_shape[0],img_shape[1]),3)\n",
        "            #img = np.array(img).reshape(img_shape)\n",
        "            #img = img.reshape(img_shape)\n",
        "            imag.append(img)\n",
        "            label.append(classes.index(i))\n",
        "            del(img)\n",
        "    # %matplotlib inline \n",
        "    # plt.figure(figsize=(10, 10))\n",
        "    # for i in range(20):\n",
        "    #     plt.subplot(5,4,i+1)\n",
        "    #     plt.imshow(imag[i])\n",
        "    #     plt.axis('off')\n",
        "    # plt.show()\n",
        "    return np.array(imag),label"
      ]
    },
    {
      "cell_type": "code",
      "execution_count": 11,
      "metadata": {
        "id": "2JiIMIjrCevG"
      },
      "outputs": [],
      "source": [
        "IMG_SIZE = 224"
      ]
    },
    {
      "cell_type": "code",
      "execution_count": 12,
      "metadata": {
        "id": "_-Eil-C_-LMy"
      },
      "outputs": [],
      "source": [
        "x,y = cs_images(data_path,(IMG_SIZE, IMG_SIZE, 1),classes)"
      ]
    },
    {
      "cell_type": "code",
      "execution_count": 13,
      "metadata": {
        "id": "to4R43asATbE"
      },
      "outputs": [],
      "source": [
        "y = pd.Series(y)"
      ]
    },
    {
      "cell_type": "code",
      "execution_count": 14,
      "metadata": {
        "id": "SyQy4Fl6ASJA"
      },
      "outputs": [],
      "source": [
        "x_train,x_test,y_train,y_test = train_test_split(x,y,\n",
        "                                                 test_size = 0.1,\n",
        "                                                 random_state = 12,\n",
        "                                                 shuffle = True)"
      ]
    },
    {
      "cell_type": "code",
      "execution_count": 15,
      "metadata": {
        "colab": {
          "base_uri": "https://localhost:8080/"
        },
        "id": "oUgdGnK-AaKi",
        "outputId": "99647772-f48a-4129-80bc-eff916402d93"
      },
      "outputs": [
        {
          "output_type": "execute_result",
          "data": {
            "text/plain": [
              "(1801, 224, 224, 3)"
            ]
          },
          "metadata": {},
          "execution_count": 15
        }
      ],
      "source": [
        "x_train.shape"
      ]
    },
    {
      "cell_type": "code",
      "execution_count": 16,
      "metadata": {
        "colab": {
          "base_uri": "https://localhost:8080/"
        },
        "id": "L9CADqJJAexM",
        "outputId": "dec7ad4b-5525-4f66-c79c-221d823d32c7"
      },
      "outputs": [
        {
          "output_type": "execute_result",
          "data": {
            "text/plain": [
              "1924    4\n",
              "122     0\n",
              "1502    3\n",
              "1568    3\n",
              "1431    3\n",
              "177     0\n",
              "1264    3\n",
              "468     1\n",
              "324     0\n",
              "161     0\n",
              "dtype: int64"
            ]
          },
          "metadata": {},
          "execution_count": 16
        }
      ],
      "source": [
        "y_train[:10]"
      ]
    },
    {
      "cell_type": "code",
      "execution_count": 17,
      "metadata": {
        "colab": {
          "base_uri": "https://localhost:8080/"
        },
        "id": "mUmBn720AmE3",
        "outputId": "809dddc5-539d-4c88-96f0-5bc21687a7fc"
      },
      "outputs": [
        {
          "output_type": "execute_result",
          "data": {
            "text/plain": [
              "(1801,)"
            ]
          },
          "metadata": {},
          "execution_count": 17
        }
      ],
      "source": [
        "y_train.shape"
      ]
    },
    {
      "cell_type": "code",
      "execution_count": 18,
      "metadata": {
        "colab": {
          "base_uri": "https://localhost:8080/"
        },
        "id": "3x7hnsmRApXS",
        "outputId": "e1f9f0a1-1145-4e47-9f0b-213e4f371d33"
      },
      "outputs": [
        {
          "output_type": "execute_result",
          "data": {
            "text/plain": [
              "(201, 224, 224, 3)"
            ]
          },
          "metadata": {},
          "execution_count": 18
        }
      ],
      "source": [
        "x_test.shape"
      ]
    },
    {
      "cell_type": "code",
      "execution_count": 19,
      "metadata": {
        "colab": {
          "base_uri": "https://localhost:8080/"
        },
        "id": "IZvJbvOlAva-",
        "outputId": "cdfc47ef-7a73-4b26-b484-fc45b9173289"
      },
      "outputs": [
        {
          "output_type": "execute_result",
          "data": {
            "text/plain": [
              "(201,)"
            ]
          },
          "metadata": {},
          "execution_count": 19
        }
      ],
      "source": [
        "y_test.shape"
      ]
    },
    {
      "cell_type": "code",
      "execution_count": 20,
      "metadata": {
        "id": "oukqhB1byZ9n"
      },
      "outputs": [],
      "source": [
        "IMG_SIZE = 224"
      ]
    },
    {
      "cell_type": "markdown",
      "source": [
        "# VGG"
      ],
      "metadata": {
        "id": "Rj7Z3WsLlmgv"
      }
    },
    {
      "cell_type": "code",
      "source": [
        "base_model = VGG19(input_shape=(IMG_SIZE,IMG_SIZE,3), include_top=False, weights='imagenet')\n",
        "# Set all layers to non-trainable\n",
        "for layer in base_model.layers:\n",
        "    layer.trainable = False\n",
        "# Set the last vgg block to trainable\n",
        "base_model.layers[-2].trainable = True\n",
        "base_model.layers[-3].trainable = True\n",
        "base_model.layers[-4].trainable = True\n",
        "\n",
        "model = Sequential()\n",
        "model.add(Input(shape=(IMG_SIZE,IMG_SIZE,3)))\n",
        "model.add(base_model)\n",
        "model.add(Flatten())\n",
        "model.add(Dropout(0.3))\n",
        "model.add(Dense(128, activation='relu'))\n",
        "model.add(Dropout(0.1))\n",
        "model.add(Dense(len(classes), activation='softmax'))"
      ],
      "metadata": {
        "id": "kz6KZq5V5DkH",
        "colab": {
          "base_uri": "https://localhost:8080/"
        },
        "outputId": "0abb5484-c43a-4a4b-c097-b81f5cd84b10"
      },
      "execution_count": 21,
      "outputs": [
        {
          "output_type": "stream",
          "name": "stdout",
          "text": [
            "Downloading data from https://storage.googleapis.com/tensorflow/keras-applications/vgg19/vgg19_weights_tf_dim_ordering_tf_kernels_notop.h5\n",
            "80134624/80134624 [==============================] - 3s 0us/step\n"
          ]
        }
      ]
    },
    {
      "cell_type": "code",
      "source": [
        "model.summary()"
      ],
      "metadata": {
        "colab": {
          "base_uri": "https://localhost:8080/"
        },
        "id": "AWNMMeNt5SHP",
        "outputId": "2c9c0452-8525-440c-9d15-f9ce6613ecfc"
      },
      "execution_count": 22,
      "outputs": [
        {
          "output_type": "stream",
          "name": "stdout",
          "text": [
            "Model: \"sequential\"\n",
            "_________________________________________________________________\n",
            " Layer (type)                Output Shape              Param #   \n",
            "=================================================================\n",
            " vgg19 (Functional)          (None, 7, 7, 512)         20024384  \n",
            "                                                                 \n",
            " flatten (Flatten)           (None, 25088)             0         \n",
            "                                                                 \n",
            " dropout (Dropout)           (None, 25088)             0         \n",
            "                                                                 \n",
            " dense (Dense)               (None, 128)               3211392   \n",
            "                                                                 \n",
            " dropout_1 (Dropout)         (None, 128)               0         \n",
            "                                                                 \n",
            " dense_1 (Dense)             (None, 5)                 645       \n",
            "                                                                 \n",
            "=================================================================\n",
            "Total params: 23,236,421\n",
            "Trainable params: 10,291,461\n",
            "Non-trainable params: 12,944,960\n",
            "_________________________________________________________________\n"
          ]
        }
      ]
    },
    {
      "cell_type": "code",
      "source": [
        "import torch\n",
        "\n",
        "device = torch.device(\"cuda:0\" if (torch.cuda.is_available()) else \"cpu\")\n",
        "\n",
        "print(device)"
      ],
      "metadata": {
        "colab": {
          "base_uri": "https://localhost:8080/"
        },
        "id": "xJaBUJt_3SfI",
        "outputId": "d3d0a705-bad0-4fa0-8709-bf8959ca51da"
      },
      "execution_count": 23,
      "outputs": [
        {
          "output_type": "stream",
          "name": "stdout",
          "text": [
            "cuda:0\n"
          ]
        }
      ]
    },
    {
      "cell_type": "code",
      "execution_count": 24,
      "metadata": {
        "id": "Fqu6oC3xoyj6"
      },
      "outputs": [],
      "source": [
        "#opt = keras.optimizers.Adam(learning_rate=0.01)\n",
        "\n",
        "opt = tf.keras.optimizers.experimental.SGD(0.001, momentum=0.01,\n",
        "                                           clipnorm = 1,\n",
        "                                           weight_decay=0.00001)\n",
        "#Compile the model \n",
        "model.compile(loss='sparse_categorical_crossentropy', \n",
        "              optimizer= opt, \n",
        "              metrics=['sparse_categorical_accuracy']) "
      ]
    },
    {
      "cell_type": "code",
      "execution_count": 25,
      "metadata": {
        "colab": {
          "base_uri": "https://localhost:8080/"
        },
        "id": "7WaljovwUC-L",
        "outputId": "b3aa7a13-2a49-4916-f348-143e1262d1a0"
      },
      "outputs": [
        {
          "output_type": "stream",
          "name": "stdout",
          "text": [
            "Epoch 1/30\n",
            "57/57 [==============================] - 27s 212ms/step - loss: 7.0532 - sparse_categorical_accuracy: 0.2482 - val_loss: 3.6764 - val_sparse_categorical_accuracy: 0.2786\n",
            "Epoch 2/30\n",
            "57/57 [==============================] - 10s 177ms/step - loss: 4.6363 - sparse_categorical_accuracy: 0.2971 - val_loss: 2.8321 - val_sparse_categorical_accuracy: 0.2786\n",
            "Epoch 3/30\n",
            "57/57 [==============================] - 11s 188ms/step - loss: 3.2107 - sparse_categorical_accuracy: 0.3770 - val_loss: 2.2802 - val_sparse_categorical_accuracy: 0.3234\n",
            "Epoch 4/30\n",
            "57/57 [==============================] - 10s 184ms/step - loss: 2.7114 - sparse_categorical_accuracy: 0.3620 - val_loss: 1.9368 - val_sparse_categorical_accuracy: 0.3483\n",
            "Epoch 5/30\n",
            "57/57 [==============================] - 11s 191ms/step - loss: 2.3109 - sparse_categorical_accuracy: 0.3876 - val_loss: 1.6738 - val_sparse_categorical_accuracy: 0.3532\n",
            "Epoch 6/30\n",
            "57/57 [==============================] - 11s 193ms/step - loss: 1.9461 - sparse_categorical_accuracy: 0.4026 - val_loss: 1.4728 - val_sparse_categorical_accuracy: 0.3632\n",
            "Epoch 7/30\n",
            "57/57 [==============================] - 11s 194ms/step - loss: 1.7330 - sparse_categorical_accuracy: 0.4225 - val_loss: 1.3237 - val_sparse_categorical_accuracy: 0.3632\n",
            "Epoch 8/30\n",
            "57/57 [==============================] - 11s 194ms/step - loss: 1.6271 - sparse_categorical_accuracy: 0.4181 - val_loss: 1.2383 - val_sparse_categorical_accuracy: 0.4129\n",
            "Epoch 9/30\n",
            "57/57 [==============================] - 11s 197ms/step - loss: 1.4090 - sparse_categorical_accuracy: 0.4348 - val_loss: 1.1331 - val_sparse_categorical_accuracy: 0.3881\n",
            "Epoch 10/30\n",
            "57/57 [==============================] - 11s 198ms/step - loss: 1.3246 - sparse_categorical_accuracy: 0.4359 - val_loss: 1.1167 - val_sparse_categorical_accuracy: 0.3930\n",
            "Epoch 11/30\n",
            "57/57 [==============================] - 11s 190ms/step - loss: 1.2773 - sparse_categorical_accuracy: 0.4292 - val_loss: 1.0808 - val_sparse_categorical_accuracy: 0.3881\n",
            "Epoch 12/30\n",
            "57/57 [==============================] - 11s 189ms/step - loss: 1.2252 - sparse_categorical_accuracy: 0.4448 - val_loss: 1.0542 - val_sparse_categorical_accuracy: 0.4179\n",
            "Epoch 13/30\n",
            "57/57 [==============================] - 11s 194ms/step - loss: 1.1863 - sparse_categorical_accuracy: 0.4425 - val_loss: 1.0346 - val_sparse_categorical_accuracy: 0.3980\n",
            "Epoch 14/30\n",
            "57/57 [==============================] - 11s 194ms/step - loss: 1.1296 - sparse_categorical_accuracy: 0.4475 - val_loss: 1.0311 - val_sparse_categorical_accuracy: 0.3980\n",
            "Epoch 15/30\n",
            "57/57 [==============================] - 11s 191ms/step - loss: 1.0955 - sparse_categorical_accuracy: 0.4609 - val_loss: 1.0195 - val_sparse_categorical_accuracy: 0.4129\n",
            "Epoch 16/30\n",
            "57/57 [==============================] - 11s 192ms/step - loss: 1.1007 - sparse_categorical_accuracy: 0.4620 - val_loss: 1.0114 - val_sparse_categorical_accuracy: 0.4279\n",
            "Epoch 17/30\n",
            "57/57 [==============================] - 11s 191ms/step - loss: 1.0366 - sparse_categorical_accuracy: 0.4731 - val_loss: 0.9970 - val_sparse_categorical_accuracy: 0.4229\n",
            "Epoch 18/30\n",
            "57/57 [==============================] - 11s 195ms/step - loss: 1.0461 - sparse_categorical_accuracy: 0.4564 - val_loss: 1.0014 - val_sparse_categorical_accuracy: 0.4129\n",
            "Epoch 19/30\n",
            "57/57 [==============================] - 11s 195ms/step - loss: 1.0235 - sparse_categorical_accuracy: 0.4842 - val_loss: 1.0022 - val_sparse_categorical_accuracy: 0.4279\n",
            "Epoch 20/30\n",
            "57/57 [==============================] - 11s 195ms/step - loss: 0.9897 - sparse_categorical_accuracy: 0.4997 - val_loss: 0.9951 - val_sparse_categorical_accuracy: 0.4378\n",
            "Epoch 21/30\n",
            "57/57 [==============================] - 11s 196ms/step - loss: 0.9508 - sparse_categorical_accuracy: 0.5258 - val_loss: 0.9860 - val_sparse_categorical_accuracy: 0.4328\n",
            "Epoch 22/30\n",
            "57/57 [==============================] - 11s 196ms/step - loss: 0.9666 - sparse_categorical_accuracy: 0.5208 - val_loss: 0.9955 - val_sparse_categorical_accuracy: 0.4129\n",
            "Epoch 23/30\n",
            "57/57 [==============================] - 11s 195ms/step - loss: 0.9575 - sparse_categorical_accuracy: 0.5036 - val_loss: 0.9919 - val_sparse_categorical_accuracy: 0.3980\n",
            "Epoch 24/30\n",
            "57/57 [==============================] - 11s 196ms/step - loss: 0.9633 - sparse_categorical_accuracy: 0.5075 - val_loss: 0.9882 - val_sparse_categorical_accuracy: 0.4378\n",
            "Epoch 25/30\n",
            "57/57 [==============================] - 11s 191ms/step - loss: 0.9148 - sparse_categorical_accuracy: 0.5475 - val_loss: 0.9890 - val_sparse_categorical_accuracy: 0.4378\n",
            "Epoch 26/30\n",
            "57/57 [==============================] - 11s 196ms/step - loss: 0.9081 - sparse_categorical_accuracy: 0.5530 - val_loss: 0.9896 - val_sparse_categorical_accuracy: 0.4179\n",
            "Epoch 27/30\n",
            "57/57 [==============================] - 11s 191ms/step - loss: 0.9260 - sparse_categorical_accuracy: 0.5325 - val_loss: 0.9961 - val_sparse_categorical_accuracy: 0.3881\n",
            "Epoch 28/30\n",
            "57/57 [==============================] - 11s 194ms/step - loss: 0.9141 - sparse_categorical_accuracy: 0.5564 - val_loss: 0.9992 - val_sparse_categorical_accuracy: 0.3881\n",
            "Epoch 29/30\n",
            "57/57 [==============================] - 11s 191ms/step - loss: 0.8736 - sparse_categorical_accuracy: 0.5691 - val_loss: 1.0008 - val_sparse_categorical_accuracy: 0.3781\n",
            "Epoch 30/30\n",
            "57/57 [==============================] - 11s 190ms/step - loss: 0.8701 - sparse_categorical_accuracy: 0.5636 - val_loss: 1.0066 - val_sparse_categorical_accuracy: 0.3831\n"
          ]
        }
      ],
      "source": [
        "history = model.fit(x_train,\n",
        "                    y_train,\n",
        "                    epochs= 30,\n",
        "                    validation_data = (x_test,y_test),\n",
        "                    verbose = 1,\n",
        "                    #callbacks = [es],\n",
        "                    batch_size=32)"
      ]
    },
    {
      "cell_type": "code",
      "execution_count": 27,
      "metadata": {
        "id": "qnDsIwOhpAof",
        "colab": {
          "base_uri": "https://localhost:8080/",
          "height": 843
        },
        "outputId": "484af7a3-ee77-4a35-8b29-600b90e2420c"
      },
      "outputs": [
        {
          "output_type": "display_data",
          "data": {
            "text/plain": [
              "<Figure size 640x480 with 1 Axes>"
            ],
            "image/png": "[encoded data removed]"
          },
          "metadata": {}
        },
        {
          "output_type": "display_data",
          "data": {
            "text/plain": [
              "<Figure size 640x480 with 1 Axes>"
            ],
            "image/png": "[encoded data removed]"
          },
          "metadata": {}
        }
      ],
      "source": [
        "# loss\n",
        "plt.plot(history.history['loss'], label='train loss')\n",
        "plt.plot(history.history['val_loss'], label='val loss')\n",
        "plt.legend()\n",
        "plt.show()\n",
        " \n",
        " # accuracies\n",
        "plt.plot(history.history['sparse_categorical_accuracy'], label='train acc')\n",
        "plt.plot(history.history['val_sparse_categorical_accuracy'], label='val acc')\n",
        "plt.legend()\n",
        "plt.show()"
      ]
    },
    {
      "cell_type": "code",
      "execution_count": 28,
      "metadata": {
        "id": "4XIVVv_XpHwy"
      },
      "outputs": [],
      "source": [
        "from tensorflow.keras.models import load_model\n",
        "model.save('/content/drive/MyDrive/Sem 2/CV/Saved_models/5g_2_data_vgg19.h5')"
      ]
    },
    {
      "cell_type": "code",
      "execution_count": 29,
      "metadata": {
        "id": "npOZ-OyGmCtn",
        "colab": {
          "base_uri": "https://localhost:8080/"
        },
        "outputId": "1acb68f7-dee7-40d9-8386-9bbc516b89bf"
      },
      "outputs": [
        {
          "output_type": "stream",
          "name": "stdout",
          "text": [
            "7/7 [==============================] - 1s 146ms/step\n"
          ]
        }
      ],
      "source": [
        "y_pred = np.argmax(model.predict(x_test),axis=1)"
      ]
    },
    {
      "cell_type": "code",
      "execution_count": 30,
      "metadata": {
        "id": "yB_BDLp-mCto",
        "colab": {
          "base_uri": "https://localhost:8080/"
        },
        "outputId": "74572fba-c6e3-4ef3-9390-30064e8fbf48"
      },
      "outputs": [
        {
          "output_type": "execute_result",
          "data": {
            "text/plain": [
              "array([2, 1, 1, 2, 4])"
            ]
          },
          "metadata": {},
          "execution_count": 30
        }
      ],
      "source": [
        "y_pred[0:5]"
      ]
    },
    {
      "cell_type": "code",
      "execution_count": 31,
      "metadata": {
        "id": "l14KktOmmCtq",
        "colab": {
          "base_uri": "https://localhost:8080/"
        },
        "outputId": "9e4406d8-be29-4dee-fa18-2dfeb11f48c0"
      },
      "outputs": [
        {
          "output_type": "execute_result",
          "data": {
            "text/plain": [
              "[0, 3, 1, 2, 4]"
            ]
          },
          "metadata": {},
          "execution_count": 31
        }
      ],
      "source": [
        "list(y_test[0:5])"
      ]
    },
    {
      "cell_type": "code",
      "execution_count": 32,
      "metadata": {
        "id": "ccCf0owKmCtr",
        "colab": {
          "base_uri": "https://localhost:8080/"
        },
        "outputId": "54ada9f6-7a7f-4493-e830-62005248586b"
      },
      "outputs": [
        {
          "output_type": "stream",
          "name": "stdout",
          "text": [
            "7/7 [==============================] - 1s 138ms/step - loss: 1.0066 - sparse_categorical_accuracy: 0.3831\n"
          ]
        },
        {
          "output_type": "execute_result",
          "data": {
            "text/plain": [
              "[1.006611943244934, 0.38308456540107727]"
            ]
          },
          "metadata": {},
          "execution_count": 32
        }
      ],
      "source": [
        "model.evaluate(x_test,y_test)"
      ]
    },
    {
      "cell_type": "code",
      "execution_count": 33,
      "metadata": {
        "id": "nRfgjXatXuWg",
        "colab": {
          "base_uri": "https://localhost:8080/"
        },
        "outputId": "90b729a6-a76a-4c4c-916d-4f37ed9bf728"
      },
      "outputs": [
        {
          "output_type": "stream",
          "name": "stdout",
          "text": [
            "['4QAM', '64QAM', '16QAM', '32QAM', '8QAM']\n",
            "[[15  0 31  0  0]\n",
            " [ 0 15  0 15  8]\n",
            " [20  0 25  0  0]\n",
            " [ 0 13  0 11 13]\n",
            " [ 0 14  0 10 11]] \n",
            "\n",
            "124 \n",
            "\n",
            "              precision    recall  f1-score   support\n",
            "\n",
            "           0       0.43      0.33      0.37        46\n",
            "           1       0.36      0.39      0.38        38\n",
            "           2       0.45      0.56      0.50        45\n",
            "           3       0.31      0.30      0.30        37\n",
            "           4       0.34      0.31      0.33        35\n",
            "\n",
            "    accuracy                           0.38       201\n",
            "   macro avg       0.38      0.38      0.37       201\n",
            "weighted avg       0.38      0.38      0.38       201\n",
            "\n"
          ]
        }
      ],
      "source": [
        "print(classes)\n",
        "# print(y_test[:25], '\\n')\n",
        "# print(y_pred[:25], '\\n')\n",
        "\n",
        "# predict = []\n",
        "# for i in range(3000): #len(y_pred)\n",
        "#   predict.append(np.argmax(y_pred[i]))\n",
        "\n",
        "# print(predict[:25], '\\n')\n",
        "\n",
        "cm = confusion_matrix(y_test, y_pred)\n",
        "print(cm, '\\n')\n",
        "\n",
        "zol = zero_one_loss(y_test, y_pred, normalize = False)\n",
        "print(zol, '\\n')\n",
        "\n",
        "cr = classification_report(y_test, y_pred)\n",
        "print(cr)"
      ]
    },
    {
      "cell_type": "code",
      "execution_count": 34,
      "metadata": {
        "id": "6uNTPvNTXuXE",
        "colab": {
          "base_uri": "https://localhost:8080/",
          "height": 466
        },
        "outputId": "4c32653e-a26c-4bd6-9239-da718e4b3557"
      },
      "outputs": [
        {
          "output_type": "display_data",
          "data": {
            "text/plain": [
              "<Figure size 500x500 with 0 Axes>"
            ]
          },
          "metadata": {}
        },
        {
          "output_type": "display_data",
          "data": {
            "text/plain": [
              "<Figure size 640x480 with 2 Axes>"
            ],
            "image/png": "[encoded data removed]"
          },
          "metadata": {}
        }
      ],
      "source": [
        "plt.figure(figsize = (5,5))\n",
        "ConfusionMatrixDisplay(cm).plot()\n",
        "plt.show()"
      ]
    },
    {
      "cell_type": "code",
      "source": [],
      "metadata": {
        "id": "qE7Rga5Amu06"
      },
      "execution_count": null,
      "outputs": []
    }
  ],
  "metadata": {
    "colab": {
      "provenance": [],
      "gpuType": "T4"
    },
    "kernelspec": {
      "display_name": "Python 3",
      "name": "python3"
    },
    "language_info": {
      "name": "python"
    },
    "accelerator": "GPU"
  },
  "nbformat": 4,
  "nbformat_minor": 0
}